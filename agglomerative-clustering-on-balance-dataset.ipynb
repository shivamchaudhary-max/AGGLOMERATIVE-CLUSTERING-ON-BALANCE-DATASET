{
 "cells": [
  {
   "cell_type": "code",
   "execution_count": 1,
   "id": "8ad94b43",
   "metadata": {
    "execution": {
     "iopub.execute_input": "2022-01-19T11:45:38.677699Z",
     "iopub.status.busy": "2022-01-19T11:45:38.677074Z",
     "iopub.status.idle": "2022-01-19T11:45:39.942805Z",
     "shell.execute_reply": "2022-01-19T11:45:39.942112Z"
    },
    "id": "T2wetyFQLnIR",
    "papermill": {
     "duration": 1.285257,
     "end_time": "2022-01-19T11:45:39.942974",
     "exception": false,
     "start_time": "2022-01-19T11:45:38.657717",
     "status": "completed"
    },
    "tags": []
   },
   "outputs": [],
   "source": [
    "import pandas as pd\n",
    "import numpy as np\n",
    "from sklearn.cluster import KMeans\n",
    "import matplotlib.pyplot as plt\n",
    "\n"
   ]
  },
  {
   "cell_type": "markdown",
   "id": "618ad731",
   "metadata": {
    "id": "gdJl9GtRyG5j",
    "papermill": {
     "duration": 0.011378,
     "end_time": "2022-01-19T11:45:39.966596",
     "exception": false,
     "start_time": "2022-01-19T11:45:39.955218",
     "status": "completed"
    },
    "tags": []
   },
   "source": []
  },
  {
   "cell_type": "code",
   "execution_count": 2,
   "id": "9a6f331f",
   "metadata": {
    "execution": {
     "iopub.execute_input": "2022-01-19T11:45:39.995955Z",
     "iopub.status.busy": "2022-01-19T11:45:39.995294Z",
     "iopub.status.idle": "2022-01-19T11:45:40.010607Z",
     "shell.execute_reply": "2022-01-19T11:45:40.010021Z"
    },
    "id": "P2GKcx8ZpYjr",
    "papermill": {
     "duration": 0.032586,
     "end_time": "2022-01-19T11:45:40.010744",
     "exception": false,
     "start_time": "2022-01-19T11:45:39.978158",
     "status": "completed"
    },
    "tags": []
   },
   "outputs": [],
   "source": [
    "data2=pd.read_csv('../input/balance/balance.csv')"
   ]
  },
  {
   "cell_type": "code",
   "execution_count": 3,
   "id": "3bb00920",
   "metadata": {
    "execution": {
     "iopub.execute_input": "2022-01-19T11:45:40.040994Z",
     "iopub.status.busy": "2022-01-19T11:45:40.040400Z",
     "iopub.status.idle": "2022-01-19T11:45:40.050793Z",
     "shell.execute_reply": "2022-01-19T11:45:40.050257Z"
    },
    "id": "n2BUgYaLpkVV",
    "papermill": {
     "duration": 0.027747,
     "end_time": "2022-01-19T11:45:40.050909",
     "exception": false,
     "start_time": "2022-01-19T11:45:40.023162",
     "status": "completed"
    },
    "tags": []
   },
   "outputs": [
    {
     "data": {
      "text/plain": [
       "B      0\n",
       "1      0\n",
       "1.1    0\n",
       "1.2    0\n",
       "1.3    0\n",
       "dtype: int64"
      ]
     },
     "execution_count": 3,
     "metadata": {},
     "output_type": "execute_result"
    }
   ],
   "source": [
    "data2.isnull().sum()"
   ]
  },
  {
   "cell_type": "code",
   "execution_count": 4,
   "id": "859e357a",
   "metadata": {
    "execution": {
     "iopub.execute_input": "2022-01-19T11:45:40.082496Z",
     "iopub.status.busy": "2022-01-19T11:45:40.081886Z",
     "iopub.status.idle": "2022-01-19T11:45:40.084308Z",
     "shell.execute_reply": "2022-01-19T11:45:40.083882Z"
    },
    "id": "tf_z3JjtqGYo",
    "papermill": {
     "duration": 0.021277,
     "end_time": "2022-01-19T11:45:40.084434",
     "exception": false,
     "start_time": "2022-01-19T11:45:40.063157",
     "status": "completed"
    },
    "tags": []
   },
   "outputs": [],
   "source": [
    "b = data2.iloc[:, 3:5].values \n"
   ]
  },
  {
   "cell_type": "code",
   "execution_count": 5,
   "id": "edcbef87",
   "metadata": {
    "execution": {
     "iopub.execute_input": "2022-01-19T11:45:40.105813Z",
     "iopub.status.busy": "2022-01-19T11:45:40.105322Z",
     "iopub.status.idle": "2022-01-19T11:45:52.075886Z",
     "shell.execute_reply": "2022-01-19T11:45:52.075369Z"
    },
    "id": "TkEnECDgqPHR",
    "outputId": "c1fc6f27-a9db-4f9f-f73f-47579d4d64f9",
    "papermill": {
     "duration": 11.983143,
     "end_time": "2022-01-19T11:45:52.076010",
     "exception": false,
     "start_time": "2022-01-19T11:45:40.092867",
     "status": "completed"
    },
    "tags": []
   },
   "outputs": [
    {
     "data": {
      "image/png": "[encoded data removed]",
      "text/plain": [
       "<Figure size 720x504 with 1 Axes>"
      ]
     },
     "metadata": {
      "needs_background": "light"
     },
     "output_type": "display_data"
    }
   ],
   "source": [
    "#drawing dendogram\n",
    "import scipy.cluster.hierarchy as shc\n",
    "\n",
    "plt.figure(figsize=(10, 7))  \n",
    "plt.title(\"balance\")  \n",
    "dend = shc.dendrogram(shc.linkage(b, method='ward')) "
   ]
  },
  {
   "cell_type": "code",
   "execution_count": 6,
   "id": "b77863be",
   "metadata": {
    "execution": {
     "iopub.execute_input": "2022-01-19T11:45:52.106028Z",
     "iopub.status.busy": "2022-01-19T11:45:52.105214Z",
     "iopub.status.idle": "2022-01-19T11:45:52.122065Z",
     "shell.execute_reply": "2022-01-19T11:45:52.122576Z"
    },
    "id": "-w6Pf4wXBy1a",
    "outputId": "a0875452-8d5b-4eb6-bb52-3b4cc90a3e7e",
    "papermill": {
     "duration": 0.033595,
     "end_time": "2022-01-19T11:45:52.122742",
     "exception": false,
     "start_time": "2022-01-19T11:45:52.089147",
     "status": "completed"
    },
    "tags": []
   },
   "outputs": [
    {
     "name": "stdout",
     "output_type": "stream",
     "text": [
      "[0 0 0 0 0 0 0 0 0 0 0 0 0 0 0 0 0 0 0 0 0 0 0 2 1 0 0 0 0 0 0 0 0 0 0 0 0\n",
      " 0 0 0 0 0 0 0 0 0 0 0 2 1 0 0 0 0 0 0 0 0 0 0 0 0 0 0 0 0 0 0 0 0 0 0 0 2\n",
      " 1 0 0 0 0 0 0 0 0 0 0 0 0 0 0 0 0 0 0 0 0 0 0 0 2 1 0 0 0 0 0 0 0 0 0 0 0\n",
      " 0 0 0 0 0 0 0 0 0 0 0 0 2 1 0 0 0 0 0 0 0 0 0 0 0 0 0 0 0 0 0 0 0 0 0 0 0\n",
      " 2 1 0 0 0 0 0 0 0 0 0 0 0 0 0 0 0 0 0 0 0 0 0 0 0 2 1 0 0 0 0 0 0 0 0 0 0\n",
      " 0 0 0 0 0 0 0 0 0 0 0 0 0 2 1 0 0 0 0 0 0 0 0 0 0 0 0 0 0 0 0 0 0 0 0 0 0\n",
      " 0 2 1 0 0 0 0 0 0 0 0 0 0 0 0 0 0 0 0 0 0 0 0 0 0 0 2 1 0 0 0 0 0 0 0 0 0\n",
      " 0 0 0 0 0 0 0 0 0 0 0 0 0 0 2 1 0 0 0 0 0 0 0 0 0 0 0 0 0 0 0 0 0 0 0 0 0\n",
      " 0 0 2 1 0 0 0 0 0 0 0 0 0 0 0 0 0 0 0 0 0 0 0 0 0 0 0 2 1 0 0 0 0 0 0 0 0\n",
      " 0 0 0 0 0 0 0 0 0 0 0 0 0 0 0 2 1 0 0 0 0 0 0 0 0 0 0 0 0 0 0 0 0 0 0 0 0\n",
      " 0 0 0 2 1 0 0 0 0 0 0 0 0 0 0 0 0 0 0 0 0 0 0 0 0 0 0 0 2 1 0 0 0 0 0 0 0\n",
      " 0 0 0 0 0 0 0 0 0 0 0 0 0 0 0 0 2 1 0 0 0 0 0 0 0 0 0 0 0 0 0 0 0 0 0 0 0\n",
      " 0 0 0 0 2 1 0 0 0 0 0 0 0 0 0 0 0 0 0 0 0 0 0 0 0 0 0 0 0 2 1 0 0 0 0 0 0\n",
      " 0 0 0 0 0 0 0 0 0 0 0 0 0 0 0 0 0 2 1 0 0 0 0 0 0 0 0 0 0 0 0 0 0 0 0 0 0\n",
      " 0 0 0 0 0 2 1 0 0 0 0 0 0 0 0 0 0 0 0 0 0 0 0 0 0 0 0 0 0 0 2 1 0 0 0 0 0\n",
      " 0 0 0 0 0 0 0 0 0 0 0 0 0 0 0 0 0 0 2 1 0 0 0 0 0 0 0 0 0 0 0 0 0 0 0 0 0\n",
      " 0 0 0 0 0 0 2 1 0 0 0 0 0 0 0 0 0 0 0 0 0 0 0 0 0 0 0 0 0 0 0 2]\n"
     ]
    }
   ],
   "source": [
    "#clustering\n",
    "from sklearn.cluster import AgglomerativeClustering\n",
    "\n",
    "cluster = AgglomerativeClustering(n_clusters=3, affinity='euclidean', linkage='single')  \n",
    "d=cluster.fit_predict(b) \n",
    "print(d) \n",
    "\n"
   ]
  },
  {
   "cell_type": "code",
   "execution_count": 7,
   "id": "abfd2432",
   "metadata": {
    "execution": {
     "iopub.execute_input": "2022-01-19T11:45:52.153287Z",
     "iopub.status.busy": "2022-01-19T11:45:52.152541Z",
     "iopub.status.idle": "2022-01-19T11:45:52.373597Z",
     "shell.execute_reply": "2022-01-19T11:45:52.372957Z"
    },
    "id": "KwK9qK1_CWjR",
    "outputId": "6f434948-eb4d-46e2-ee32-62ee6a64bf02",
    "papermill": {
     "duration": 0.236894,
     "end_time": "2022-01-19T11:45:52.373721",
     "exception": false,
     "start_time": "2022-01-19T11:45:52.136827",
     "status": "completed"
    },
    "tags": []
   },
   "outputs": [
    {
     "data": {
      "text/plain": [
       "<matplotlib.collections.PathCollection at 0x7f9491b9a250>"
      ]
     },
     "execution_count": 7,
     "metadata": {},
     "output_type": "execute_result"
    },
    {
     "data": {
      "image/png": "[encoded data removed]",
      "text/plain": [
       "<Figure size 720x504 with 1 Axes>"
      ]
     },
     "metadata": {
      "needs_background": "light"
     },
     "output_type": "display_data"
    }
   ],
   "source": [
    "#Plotting \n",
    "plt.figure(figsize=(10, 7))  \n",
    "plt.scatter(b[:,0], b[:,1], c=cluster.labels_, cmap='rainbow')"
   ]
  },
  {
   "cell_type": "code",
   "execution_count": 8,
   "id": "c18aa670",
   "metadata": {
    "execution": {
     "iopub.execute_input": "2022-01-19T11:45:52.411161Z",
     "iopub.status.busy": "2022-01-19T11:45:52.410509Z",
     "iopub.status.idle": "2022-01-19T11:45:52.432696Z",
     "shell.execute_reply": "2022-01-19T11:45:52.431445Z"
    },
    "id": "l6_8JCHvJt-9",
    "outputId": "1b9302f1-9a78-4163-fc4f-f0005b6137ff",
    "papermill": {
     "duration": 0.043304,
     "end_time": "2022-01-19T11:45:52.432841",
     "exception": false,
     "start_time": "2022-01-19T11:45:52.389537",
     "status": "completed"
    },
    "tags": []
   },
   "outputs": [
    {
     "name": "stdout",
     "output_type": "stream",
     "text": [
      "For n_clusters = 3 The average silhouette_score is : 0.012332150894130598\n"
     ]
    }
   ],
   "source": [
    "from sklearn.metrics import silhouette_score\n",
    "silhouette_avg = silhouette_score(b,d)\n",
    "print(\"For n_clusters =\", 3,\n",
    "          \"The average silhouette_score is :\", silhouette_avg)"
   ]
  },
  {
   "cell_type": "code",
   "execution_count": 9,
   "id": "351df83d",
   "metadata": {
    "execution": {
     "iopub.execute_input": "2022-01-19T11:45:52.477544Z",
     "iopub.status.busy": "2022-01-19T11:45:52.476807Z",
     "iopub.status.idle": "2022-01-19T11:46:02.619615Z",
     "shell.execute_reply": "2022-01-19T11:46:02.619070Z"
    },
    "id": "o6a36vCTKzXx",
    "outputId": "57e82796-4807-4a1a-e324-10e76db87a4f",
    "papermill": {
     "duration": 10.167751,
     "end_time": "2022-01-19T11:46:02.619754",
     "exception": false,
     "start_time": "2022-01-19T11:45:52.452003",
     "status": "completed"
    },
    "tags": []
   },
   "outputs": [
    {
     "data": {
      "image/png": "[encoded data removed]",
      "text/plain": [
       "<Figure size 720x504 with 1 Axes>"
      ]
     },
     "metadata": {
      "needs_background": "light"
     },
     "output_type": "display_data"
    }
   ],
   "source": [
    "#drawing dendogram\n",
    "import scipy.cluster.hierarchy as shc\n",
    "\n",
    "plt.figure(figsize=(10, 7))  \n",
    "plt.title(\"balance\")  \n",
    "dend = shc.dendrogram(shc.linkage(b, method='complete')) "
   ]
  },
  {
   "cell_type": "code",
   "execution_count": 10,
   "id": "519b8c91",
   "metadata": {
    "execution": {
     "iopub.execute_input": "2022-01-19T11:46:02.658692Z",
     "iopub.status.busy": "2022-01-19T11:46:02.658040Z",
     "iopub.status.idle": "2022-01-19T11:46:02.667578Z",
     "shell.execute_reply": "2022-01-19T11:46:02.666975Z"
    },
    "id": "KFtlHpmnLV9o",
    "outputId": "29c2e907-7503-4615-de80-880e2169452f",
    "papermill": {
     "duration": 0.031083,
     "end_time": "2022-01-19T11:46:02.667715",
     "exception": false,
     "start_time": "2022-01-19T11:46:02.636632",
     "status": "completed"
    },
    "tags": []
   },
   "outputs": [
    {
     "name": "stdout",
     "output_type": "stream",
     "text": [
      "[3 1 1 1 3 3 1 1 1 2 2 0 0 0 2 2 0 0 0 2 2 0 0 0 3 3 1 1 1 3 3 1 1 1 2 2 0\n",
      " 0 0 2 2 0 0 0 2 2 0 0 0 3 3 1 1 1 3 3 1 1 1 2 2 0 0 0 2 2 0 0 0 2 2 0 0 0\n",
      " 3 3 1 1 1 3 3 1 1 1 2 2 0 0 0 2 2 0 0 0 2 2 0 0 0 3 3 1 1 1 3 3 1 1 1 2 2\n",
      " 0 0 0 2 2 0 0 0 2 2 0 0 0 3 3 1 1 1 3 3 1 1 1 2 2 0 0 0 2 2 0 0 0 2 2 0 0\n",
      " 0 3 3 1 1 1 3 3 1 1 1 2 2 0 0 0 2 2 0 0 0 2 2 0 0 0 3 3 1 1 1 3 3 1 1 1 2\n",
      " 2 0 0 0 2 2 0 0 0 2 2 0 0 0 3 3 1 1 1 3 3 1 1 1 2 2 0 0 0 2 2 0 0 0 2 2 0\n",
      " 0 0 3 3 1 1 1 3 3 1 1 1 2 2 0 0 0 2 2 0 0 0 2 2 0 0 0 3 3 1 1 1 3 3 1 1 1\n",
      " 2 2 0 0 0 2 2 0 0 0 2 2 0 0 0 3 3 1 1 1 3 3 1 1 1 2 2 0 0 0 2 2 0 0 0 2 2\n",
      " 0 0 0 3 3 1 1 1 3 3 1 1 1 2 2 0 0 0 2 2 0 0 0 2 2 0 0 0 3 3 1 1 1 3 3 1 1\n",
      " 1 2 2 0 0 0 2 2 0 0 0 2 2 0 0 0 3 3 1 1 1 3 3 1 1 1 2 2 0 0 0 2 2 0 0 0 2\n",
      " 2 0 0 0 3 3 1 1 1 3 3 1 1 1 2 2 0 0 0 2 2 0 0 0 2 2 0 0 0 3 3 1 1 1 3 3 1\n",
      " 1 1 2 2 0 0 0 2 2 0 0 0 2 2 0 0 0 3 3 1 1 1 3 3 1 1 1 2 2 0 0 0 2 2 0 0 0\n",
      " 2 2 0 0 0 3 3 1 1 1 3 3 1 1 1 2 2 0 0 0 2 2 0 0 0 2 2 0 0 0 3 3 1 1 1 3 3\n",
      " 1 1 1 2 2 0 0 0 2 2 0 0 0 2 2 0 0 0 3 3 1 1 1 3 3 1 1 1 2 2 0 0 0 2 2 0 0\n",
      " 0 2 2 0 0 0 3 3 1 1 1 3 3 1 1 1 2 2 0 0 0 2 2 0 0 0 2 2 0 0 0 3 3 1 1 1 3\n",
      " 3 1 1 1 2 2 0 0 0 2 2 0 0 0 2 2 0 0 0 3 3 1 1 1 3 3 1 1 1 2 2 0 0 0 2 2 0\n",
      " 0 0 2 2 0 0 0 3 3 1 1 1 3 3 1 1 1 2 2 0 0 0 2 2 0 0 0 2 2 0 0 0]\n"
     ]
    }
   ],
   "source": [
    "#clustering\n",
    "from sklearn.cluster import AgglomerativeClustering\n",
    "\n",
    "cluster = AgglomerativeClustering(n_clusters=4, affinity='euclidean', linkage='complete')  \n",
    "d=cluster.fit_predict(b) \n",
    "print(d) \n",
    "\n"
   ]
  },
  {
   "cell_type": "code",
   "execution_count": 11,
   "id": "cb3798cf",
   "metadata": {
    "execution": {
     "iopub.execute_input": "2022-01-19T11:46:02.709548Z",
     "iopub.status.busy": "2022-01-19T11:46:02.708279Z",
     "iopub.status.idle": "2022-01-19T11:46:02.895556Z",
     "shell.execute_reply": "2022-01-19T11:46:02.894911Z"
    },
    "id": "wk5bKub8LhXo",
    "outputId": "418b4c2a-599d-4f5d-8bb1-0b07220881b2",
    "papermill": {
     "duration": 0.210178,
     "end_time": "2022-01-19T11:46:02.895681",
     "exception": false,
     "start_time": "2022-01-19T11:46:02.685503",
     "status": "completed"
    },
    "tags": []
   },
   "outputs": [
    {
     "data": {
      "text/plain": [
       "<matplotlib.collections.PathCollection at 0x7f9491e3afd0>"
      ]
     },
     "execution_count": 11,
     "metadata": {},
     "output_type": "execute_result"
    },
    {
     "data": {
      "image/png": "[encoded data removed]",
      "text/plain": [
       "<Figure size 720x504 with 1 Axes>"
      ]
     },
     "metadata": {
      "needs_background": "light"
     },
     "output_type": "display_data"
    }
   ],
   "source": [
    "#Plotting \n",
    "plt.figure(figsize=(10, 7))  \n",
    "plt.scatter(b[:,0], b[:,1], c=cluster.labels_, cmap='rainbow')"
   ]
  },
  {
   "cell_type": "code",
   "execution_count": 12,
   "id": "82be665e",
   "metadata": {
    "execution": {
     "iopub.execute_input": "2022-01-19T11:46:02.936311Z",
     "iopub.status.busy": "2022-01-19T11:46:02.935734Z",
     "iopub.status.idle": "2022-01-19T11:46:02.955728Z",
     "shell.execute_reply": "2022-01-19T11:46:02.956462Z"
    },
    "id": "HE9MFwQULqaB",
    "outputId": "1fbc1f3d-bd80-4f91-a206-337921076bc6",
    "papermill": {
     "duration": 0.04197,
     "end_time": "2022-01-19T11:46:02.956641",
     "exception": false,
     "start_time": "2022-01-19T11:46:02.914671",
     "status": "completed"
    },
    "tags": []
   },
   "outputs": [
    {
     "name": "stdout",
     "output_type": "stream",
     "text": [
      "For n_clusters = 4 The average silhouette_score is : 0.4375991419526845\n"
     ]
    }
   ],
   "source": [
    "from sklearn.metrics import silhouette_score\n",
    "silhouette_avg = silhouette_score(b,d)\n",
    "print(\"For n_clusters =\", 4,\n",
    "          \"The average silhouette_score is :\", silhouette_avg)"
   ]
  }
 ],
 "metadata": {
  "kernelspec": {
   "display_name": "Python 3",
   "language": "python",
   "name": "python3"
  },
  "language_info": {
   "codemirror_mode": {
    "name": "ipython",
    "version": 3
   },
   "file_extension": ".py",
   "mimetype": "text/x-python",
   "name": "python",
   "nbconvert_exporter": "python",
   "pygments_lexer": "ipython3",
   "version": "3.7.12"
  },
  "papermill": {
   "default_parameters": {},
   "duration": 35.550238,
   "end_time": "2022-01-19T11:46:03.791660",
   "environment_variables": {},
   "exception": null,
   "input_path": "__notebook__.ipynb",
   "output_path": "__notebook__.ipynb",
   "parameters": {},
   "start_time": "2022-01-19T11:45:28.241422",
   "version": "2.3.3"
  }
 },
 "nbformat": 4,
 "nbformat_minor": 5
}
